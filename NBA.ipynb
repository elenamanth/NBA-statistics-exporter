{
 "cells": [
  {
   "cell_type": "code",
   "execution_count": null,
   "id": "f0ed04bb",
   "metadata": {},
   "outputs": [],
   "source": [
    "import pandas as pd\n",
    "import numpy as np\n",
    "from sklearn import linear_model\n",
    "import requests\n",
    "from matplotlib import pyplot as plt\n",
    "from nba_api.stats.endpoints import playercareerstats"
   ]
  },
  {
   "cell_type": "code",
   "execution_count": null,
   "id": "23890a7f",
   "metadata": {},
   "outputs": [],
   "source": [
    "from nba_api.stats import endpoints\n",
    "from nba_api.stats.static import teams\n",
    "# get_teams returns a list of 30 dictionaries, each an NBA team.\n",
    "nba_teams = teams.get_teams()\n",
    "print('Number of teams: {}'.format(len(nba_teams)))\n",
    "nba_teams[:2]"
   ]
  },
  {
   "cell_type": "code",
   "execution_count": null,
   "id": "a4c436a9",
   "metadata": {},
   "outputs": [],
   "source": [
    "bucks = [team for team in nba_teams\n",
    "         if team['abbreviation'] == 'MIL'][0]\n",
    "#bucks\n",
    "bucks_id = bucks['id']"
   ]
  },
  {
   "cell_type": "code",
   "execution_count": null,
   "id": "884ac79a",
   "metadata": {},
   "outputs": [],
   "source": [
    "from nba_api.stats.static import players\n",
    "# get_players returns a list of dictionaries, each representing a player.\n",
    "nba_players = players.get_players()\n",
    "print('Number of players fetched: {}'.format(len(nba_players)))\n",
    "nba_players[:2]"
   ]
  },
  {
   "cell_type": "code",
   "execution_count": 32,
   "id": "47686eb6",
   "metadata": {},
   "outputs": [
    {
     "name": "stdout",
     "output_type": "stream",
     "text": [
      "Max points on season 2020: 49 on MAY 02, 2021, MIL vs. BKN\n",
      "  SEASON_ID  Player_ID     Game_ID     GAME_DATE      MATCHUP WL  MIN  FGM  \\\n",
      "0     22020     203507  0022001062  MAY 15, 2021  MIL vs. MIA  W   34    6   \n",
      "1     22020     203507  0022001048  MAY 13, 2021    MIL @ IND  W   35   14   \n",
      "2     22020     203507  0022001038  MAY 11, 2021  MIL vs. ORL  W   32   11   \n",
      "3     22020     203507  0022001029  MAY 10, 2021    MIL @ SAS  L   29   11   \n",
      "4     22020     203507  0022001006  MAY 07, 2021  MIL vs. HOU  W   29    8   \n",
      "\n",
      "   FGA  FG_PCT  ...  DREB  REB  AST  STL  BLK  TOV  PF  PTS  PLUS_MINUS  \\\n",
      "0   12   0.500  ...     9    9    4    0    1    1   1   15          19   \n",
      "1   18   0.778  ...    12   15    6    1    0    1   1   40           1   \n",
      "2   18   0.611  ...    10   12    5    3    0    2   5   27          14   \n",
      "3   16   0.688  ...     3    3    4    0    0    0   4   28         -22   \n",
      "4   11   0.727  ...    11   11    7    2    1    1   3   17           5   \n",
      "\n",
      "   VIDEO_AVAILABLE  \n",
      "0                1  \n",
      "1                1  \n",
      "2                1  \n",
      "3                1  \n",
      "4                1  \n",
      "\n",
      "[5 rows x 27 columns]\n"
     ]
    },
    {
     "data": {
      "text/plain": [
       "<AxesSubplot:xlabel='MIN', ylabel='PTS'>"
      ]
     },
     "execution_count": 32,
     "metadata": {},
     "output_type": "execute_result"
    },
    {
     "data": {
      "image/png": "[encoded data removed]",
      "text/plain": [
       "<Figure size 432x288 with 1 Axes>"
      ]
     },
     "metadata": {
      "needs_background": "light"
     },
     "output_type": "display_data"
    }
   ],
   "source": [
    "#GIANNIS\n",
    "from nba_api.stats.endpoints import playercareerstats\n",
    "from nba_api.stats.library.parameters import SeasonAll\n",
    "from nba_api.stats.endpoints import playergamelog\n",
    "\n",
    "Giannis = [player for player in nba_players\n",
    "                   if player['full_name'] == 'Giannis Antetokounmpo'][0]\n",
    "Giannis_id = Giannis['id']\n",
    "Giannis\n",
    "career = playercareerstats.PlayerCareerStats(player_id = Giannis_id)\n",
    "career.get_data_frames()[0]\n",
    "\n",
    "#SEASON 2020\n",
    "game_gian = playergamelog.PlayerGameLog(player_id= Giannis_id, season = '2020')\n",
    "df_gian_games_2020 = game_gian.get_data_frames()[0]\n",
    "\n",
    "\n",
    "game_gian_all = playergamelog.PlayerGameLog(player_id=Giannis_id, season = SeasonAll.all)\n",
    "df_gian_games_all = game_gian_all.get_data_frames()[0]\n",
    "\n",
    "\n",
    "PTS = df_gian_games_2020.iloc[:,24]\n",
    "GAME_D = df_gian_games_2020.iloc[:,3]\n",
    "MATCH = df_gian_games_2020.iloc[:,4]\n",
    "\n",
    "\n",
    "for i in range(len(df_gian_games_2020)):\n",
    "    if (PTS[i] == max(PTS)):\n",
    "        print(\"Max points on season 2020: \" + str(max(PTS))+ \" on \" + str(GAME_D[i]) + \", \" + str(MATCH[i]))\n",
    "        \n",
    "print(df_gian_games_2020.head())      \n",
    "df_gian_games_2020.plot(x ='MIN', y='PTS', kind = 'scatter')\n"
   ]
  },
  {
   "cell_type": "code",
   "execution_count": 44,
   "id": "87b9916c",
   "metadata": {},
   "outputs": [
    {
     "name": "stdout",
     "output_type": "stream",
     "text": [
      "Max points on season 2021: 40 on OCT 27, 2021, MIL vs. MIN. Mean points: 27.636363636363637\n",
      "   SEASON_ID  Player_ID     Game_ID     GAME_DATE      MATCHUP WL  MIN  FGM  \\\n",
      "0      22021     203507  0022100155  NOV 09, 2021    MIL @ PHI  W   36   12   \n",
      "1      22021     203507  0022100142  NOV 07, 2021    MIL @ WAS  L   39   12   \n",
      "2      22021     203507  0022100128  NOV 05, 2021  MIL vs. NYK  L   31    7   \n",
      "3      22021     203507  0022100103  NOV 02, 2021    MIL @ DET  W   27    9   \n",
      "4      22021     203507  0022100091  OCT 31, 2021  MIL vs. UTA  L   35   10   \n",
      "5      22021     203507  0022100085  OCT 30, 2021  MIL vs. SAS  L   34   11   \n",
      "6      22021     203507  0022100060  OCT 27, 2021  MIL vs. MIN  L   35   15   \n",
      "7      22021     203507  0022100042  OCT 25, 2021    MIL @ IND  W   36   10   \n",
      "8      22021     203507  0022100032  OCT 23, 2021    MIL @ SAS  W   30    7   \n",
      "9      22021     203507  0022100015  OCT 21, 2021    MIL @ MIA  L   23    4   \n",
      "10     22021     203507  0022100001  OCT 19, 2021  MIL vs. BKN  W   31   12   \n",
      "\n",
      "    FGA  FG_PCT  ...  DREB  REB  AST  STL  BLK  TOV  PF  PTS  PLUS_MINUS  \\\n",
      "0    26   0.462  ...    15   16    4    0    2    0   1   31          13   \n",
      "1    26   0.462  ...    12   18    5    3    1    3   4   29          -6   \n",
      "2    17   0.412  ...     6    7    4    2    0    3   3   25          -5   \n",
      "3    16   0.563  ...     8    8    9    0    4    3   2   28          22   \n",
      "4    20   0.500  ...     5    7    6    2    2    2   3   25         -10   \n",
      "5    18   0.611  ...    13   13    3    0    0    7   5   28          -3   \n",
      "6    23   0.652  ...    12   16    7    0    3    2   1   40           9   \n",
      "7    18   0.556  ...     9   10    9    1    2    2   2   30          14   \n",
      "8    15   0.467  ...     8    8    8    0    3    5   4   21          19   \n",
      "9    11   0.364  ...     9   10    2    3    0    2   3   15         -25   \n",
      "10   25   0.480  ...     9   14    7    1    2    4   4   32          25   \n",
      "\n",
      "    VIDEO_AVAILABLE  \n",
      "0                 1  \n",
      "1                 1  \n",
      "2                 1  \n",
      "3                 1  \n",
      "4                 1  \n",
      "5                 1  \n",
      "6                 1  \n",
      "7                 1  \n",
      "8                 1  \n",
      "9                 1  \n",
      "10                1  \n",
      "\n",
      "[11 rows x 27 columns]\n"
     ]
    },
    {
     "data": {
      "text/plain": [
       "<AxesSubplot:xlabel='GAME_DATE', ylabel='PTS'>"
      ]
     },
     "execution_count": 44,
     "metadata": {},
     "output_type": "execute_result"
    },
    {
     "data": {
      "image/png": "[encoded data removed]",
      "text/plain": [
       "<Figure size 432x288 with 1 Axes>"
      ]
     },
     "metadata": {
      "needs_background": "light"
     },
     "output_type": "display_data"
    }
   ],
   "source": [
    "#SEASON 2021\n",
    "from numpy import mean\n",
    "game_gian = playergamelog.PlayerGameLog(player_id= Giannis_id, season = '2021')\n",
    "df_gian_games_2021 = game_gian.get_data_frames()[0]\n",
    "\n",
    "\n",
    "game_gian_all = playergamelog.PlayerGameLog(player_id=Giannis_id, season = SeasonAll.all)\n",
    "df_gian_games_all = game_gian_all.get_data_frames()[0]\n",
    "\n",
    "\n",
    "PTS = df_gian_games_2021.iloc[:,24]\n",
    "GAME_D = df_gian_games_2021.iloc[:,3]\n",
    "MATCH = df_gian_games_2021.iloc[:,4]\n",
    "\n",
    "mean_points=mean(PTS)\n",
    "for i in range(len(df_gian_games_2021)):\n",
    "    if (PTS[i] == max(PTS)):\n",
    "        print(\"Max points on season 2021: \" + str(max(PTS))+ \" on \" + str(GAME_D[i]) + \", \" + str(MATCH[i])+ \". Mean points: \"+ str(mean_points))\n",
    "        \n",
    "        \n",
    "print(df_gian_games_2021)      \n",
    "df_gian_games_2021.plot(x ='GAME_DATE', y='PTS', kind = 'scatter')\n",
    "\n"
   ]
  },
  {
   "cell_type": "code",
   "execution_count": 45,
   "id": "e9194768",
   "metadata": {},
   "outputs": [
    {
     "name": "stdout",
     "output_type": "stream",
     "text": [
      "446\n",
      "   PLAYER_ID  RANK                 PLAYER TEAM  GP  MIN  FGM  FGA  FG_PCT  \\\n",
      "0     201142     1           Kevin Durant  BKN  11  384  123  217   0.567   \n",
      "1     203507     2  Giannis Antetokounmpo  MIL  11  357  109  215   0.507   \n",
      "2    1629027     3             Trae Young  ATL  12  417  103  241   0.427   \n",
      "3     201939     4          Stephen Curry  GSW  10  336   87  203   0.429   \n",
      "4     201942     5          DeMar DeRozan  CHI  10  349   96  191   0.503   \n",
      "\n",
      "   FG3M  ...  REB  AST  STL  BLK  TOV  PF  PTS  EFF  AST_TOV  STL_TOV  \n",
      "0    21  ...   97   58    7    8   36  15  324  352     1.61     0.19  \n",
      "1    14  ...  127   64   12   19   33  32  304  354     1.94     0.36  \n",
      "2    25  ...   39  111   10    2   44  16  288  262     2.52     0.23  \n",
      "3    52  ...   66   66   17    7   31  15  276  284     2.13     0.55  \n",
      "4     9  ...   57   36   10    4   17  21  269  253     2.12     0.59  \n",
      "\n",
      "[5 rows x 27 columns]\n"
     ]
    },
    {
     "data": {
      "text/html": [
       "<div>\n",
       "<style scoped>\n",
       "    .dataframe tbody tr th:only-of-type {\n",
       "        vertical-align: middle;\n",
       "    }\n",
       "\n",
       "    .dataframe tbody tr th {\n",
       "        vertical-align: top;\n",
       "    }\n",
       "\n",
       "    .dataframe thead th {\n",
       "        text-align: right;\n",
       "    }\n",
       "</style>\n",
       "<table border=\"1\" class=\"dataframe\">\n",
       "  <thead>\n",
       "    <tr style=\"text-align: right;\">\n",
       "      <th></th>\n",
       "      <th>PLAYER_ID</th>\n",
       "      <th>RANK</th>\n",
       "      <th>PLAYER</th>\n",
       "      <th>TEAM</th>\n",
       "      <th>GP</th>\n",
       "      <th>MIN</th>\n",
       "      <th>FGM</th>\n",
       "      <th>FGA</th>\n",
       "      <th>FG_PCT</th>\n",
       "      <th>FG3M</th>\n",
       "      <th>...</th>\n",
       "      <th>REB</th>\n",
       "      <th>AST</th>\n",
       "      <th>STL</th>\n",
       "      <th>BLK</th>\n",
       "      <th>TOV</th>\n",
       "      <th>PF</th>\n",
       "      <th>PTS</th>\n",
       "      <th>EFF</th>\n",
       "      <th>AST_TOV</th>\n",
       "      <th>STL_TOV</th>\n",
       "    </tr>\n",
       "  </thead>\n",
       "  <tbody>\n",
       "    <tr>\n",
       "      <th>0</th>\n",
       "      <td>201142</td>\n",
       "      <td>1</td>\n",
       "      <td>Kevin Durant</td>\n",
       "      <td>BKN</td>\n",
       "      <td>11</td>\n",
       "      <td>384</td>\n",
       "      <td>123</td>\n",
       "      <td>217</td>\n",
       "      <td>0.567</td>\n",
       "      <td>21</td>\n",
       "      <td>...</td>\n",
       "      <td>97</td>\n",
       "      <td>58</td>\n",
       "      <td>7</td>\n",
       "      <td>8</td>\n",
       "      <td>36</td>\n",
       "      <td>15</td>\n",
       "      <td>324</td>\n",
       "      <td>352</td>\n",
       "      <td>1.61</td>\n",
       "      <td>0.19</td>\n",
       "    </tr>\n",
       "    <tr>\n",
       "      <th>1</th>\n",
       "      <td>203507</td>\n",
       "      <td>2</td>\n",
       "      <td>Giannis Antetokounmpo</td>\n",
       "      <td>MIL</td>\n",
       "      <td>11</td>\n",
       "      <td>357</td>\n",
       "      <td>109</td>\n",
       "      <td>215</td>\n",
       "      <td>0.507</td>\n",
       "      <td>14</td>\n",
       "      <td>...</td>\n",
       "      <td>127</td>\n",
       "      <td>64</td>\n",
       "      <td>12</td>\n",
       "      <td>19</td>\n",
       "      <td>33</td>\n",
       "      <td>32</td>\n",
       "      <td>304</td>\n",
       "      <td>354</td>\n",
       "      <td>1.94</td>\n",
       "      <td>0.36</td>\n",
       "    </tr>\n",
       "    <tr>\n",
       "      <th>2</th>\n",
       "      <td>1629027</td>\n",
       "      <td>3</td>\n",
       "      <td>Trae Young</td>\n",
       "      <td>ATL</td>\n",
       "      <td>12</td>\n",
       "      <td>417</td>\n",
       "      <td>103</td>\n",
       "      <td>241</td>\n",
       "      <td>0.427</td>\n",
       "      <td>25</td>\n",
       "      <td>...</td>\n",
       "      <td>39</td>\n",
       "      <td>111</td>\n",
       "      <td>10</td>\n",
       "      <td>2</td>\n",
       "      <td>44</td>\n",
       "      <td>16</td>\n",
       "      <td>288</td>\n",
       "      <td>262</td>\n",
       "      <td>2.52</td>\n",
       "      <td>0.23</td>\n",
       "    </tr>\n",
       "    <tr>\n",
       "      <th>3</th>\n",
       "      <td>201939</td>\n",
       "      <td>4</td>\n",
       "      <td>Stephen Curry</td>\n",
       "      <td>GSW</td>\n",
       "      <td>10</td>\n",
       "      <td>336</td>\n",
       "      <td>87</td>\n",
       "      <td>203</td>\n",
       "      <td>0.429</td>\n",
       "      <td>52</td>\n",
       "      <td>...</td>\n",
       "      <td>66</td>\n",
       "      <td>66</td>\n",
       "      <td>17</td>\n",
       "      <td>7</td>\n",
       "      <td>31</td>\n",
       "      <td>15</td>\n",
       "      <td>276</td>\n",
       "      <td>284</td>\n",
       "      <td>2.13</td>\n",
       "      <td>0.55</td>\n",
       "    </tr>\n",
       "    <tr>\n",
       "      <th>4</th>\n",
       "      <td>201942</td>\n",
       "      <td>5</td>\n",
       "      <td>DeMar DeRozan</td>\n",
       "      <td>CHI</td>\n",
       "      <td>10</td>\n",
       "      <td>349</td>\n",
       "      <td>96</td>\n",
       "      <td>191</td>\n",
       "      <td>0.503</td>\n",
       "      <td>9</td>\n",
       "      <td>...</td>\n",
       "      <td>57</td>\n",
       "      <td>36</td>\n",
       "      <td>10</td>\n",
       "      <td>4</td>\n",
       "      <td>17</td>\n",
       "      <td>21</td>\n",
       "      <td>269</td>\n",
       "      <td>253</td>\n",
       "      <td>2.12</td>\n",
       "      <td>0.59</td>\n",
       "    </tr>\n",
       "  </tbody>\n",
       "</table>\n",
       "<p>5 rows × 27 columns</p>\n",
       "</div>"
      ],
      "text/plain": [
       "   PLAYER_ID  RANK                 PLAYER TEAM  GP  MIN  FGM  FGA  FG_PCT  \\\n",
       "0     201142     1           Kevin Durant  BKN  11  384  123  217   0.567   \n",
       "1     203507     2  Giannis Antetokounmpo  MIL  11  357  109  215   0.507   \n",
       "2    1629027     3             Trae Young  ATL  12  417  103  241   0.427   \n",
       "3     201939     4          Stephen Curry  GSW  10  336   87  203   0.429   \n",
       "4     201942     5          DeMar DeRozan  CHI  10  349   96  191   0.503   \n",
       "\n",
       "   FG3M  ...  REB  AST  STL  BLK  TOV  PF  PTS  EFF  AST_TOV  STL_TOV  \n",
       "0    21  ...   97   58    7    8   36  15  324  352     1.61     0.19  \n",
       "1    14  ...  127   64   12   19   33  32  304  354     1.94     0.36  \n",
       "2    25  ...   39  111   10    2   44  16  288  262     2.52     0.23  \n",
       "3    52  ...   66   66   17    7   31  15  276  284     2.13     0.55  \n",
       "4     9  ...   57   36   10    4   17  21  269  253     2.12     0.59  \n",
       "\n",
       "[5 rows x 27 columns]"
      ]
     },
     "execution_count": 45,
     "metadata": {},
     "output_type": "execute_result"
    }
   ],
   "source": [
    "data = endpoints.leagueleaders.LeagueLeaders() \n",
    "df = data.league_leaders.get_data_frame()\n",
    " \n",
    "print(len(df))\n",
    "print(df.head())\n",
    "#print(df.columns.tolist())\n",
    "\n",
    "#TOP5 scorers\n",
    "max(df.loc[:,'PTS'])\n",
    "df.iloc[0:5,:]\n",
    "\n"
   ]
  },
  {
   "cell_type": "code",
   "execution_count": 46,
   "id": "a24324ef",
   "metadata": {},
   "outputs": [
    {
     "data": {
      "text/plain": [
       "<AxesSubplot:xlabel='MIN', ylabel='PTS'>"
      ]
     },
     "execution_count": 46,
     "metadata": {},
     "output_type": "execute_result"
    },
    {
     "data": {
      "image/png": "[encoded data removed]",
      "text/plain": [
       "<Figure size 432x288 with 1 Axes>"
      ]
     },
     "metadata": {
      "needs_background": "light"
     },
     "output_type": "display_data"
    }
   ],
   "source": [
    "#POINTS vs MINUTES\n",
    "df.plot(x ='MIN', y='PTS', kind = 'scatter')"
   ]
  }
 ],
 "metadata": {
  "kernelspec": {
   "display_name": "Python 3 (ipykernel)",
   "language": "python",
   "name": "python3"
  },
  "language_info": {
   "codemirror_mode": {
    "name": "ipython",
    "version": 3
   },
   "file_extension": ".py",
   "mimetype": "text/x-python",
   "name": "python",
   "nbconvert_exporter": "python",
   "pygments_lexer": "ipython3",
   "version": "3.8.10"
  }
 },
 "nbformat": 4,
 "nbformat_minor": 5
}
